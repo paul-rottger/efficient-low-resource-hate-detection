{
 "cells": [
  {
   "cell_type": "code",
   "execution_count": 1,
   "id": "f13adda2",
   "metadata": {},
   "outputs": [],
   "source": [
    "# import relevant packages\n",
    "\n",
    "import pandas as pd\n",
    "import os\n",
    "import re\n",
    "\n",
    "from html import unescape\n",
    "from sklearn.model_selection import train_test_split\n",
    "\n",
    "pd.set_option('display.max_colwidth', None)"
   ]
  },
  {
   "cell_type": "markdown",
   "id": "f2dbcb7d-80d9-42c9-b391-cf6e785ae5eb",
   "metadata": {},
   "source": [
    "## Load raw datasets"
   ]
  },
  {
   "cell_type": "code",
   "execution_count": 2,
   "id": "751cc58c-ca94-42c7-b1bd-a1d1e23ebdd1",
   "metadata": {},
   "outputs": [
    {
     "name": "stdout",
     "output_type": "stream",
     "text": [
      "dynabench2021_english.csv\n",
      "fortuna2019_portuguese.csv\n",
      "basile2019_spanish.csv\n",
      "sanguinetti2020_italian.csv\n"
     ]
    }
   ],
   "source": [
    "df_dict = dict()\n",
    "\n",
    "PATH = \"./data/0_raw\"\n",
    "\n",
    "for file in os.listdir(PATH):\n",
    "    if \"ipynb\" not in file:\n",
    "        print(file)\n",
    "        df_dict[file.removesuffix(\".csv\")] = pd.read_csv(f\"{PATH}/{file}\")"
   ]
  },
  {
   "cell_type": "markdown",
   "id": "bed7ed05-5188-48b5-a2ca-338ebadd806b",
   "metadata": {},
   "source": [
    "## Reformat columns\n",
    "Need separate logic for different datasets. 1 is for hateful, 0 for non-hateful."
   ]
  },
  {
   "cell_type": "code",
   "execution_count": 3,
   "id": "f13277bd-80b3-4664-854c-9067973ff9c5",
   "metadata": {},
   "outputs": [],
   "source": [
    "# Dynabench 2021 / English\n",
    "df_dict[\"dynabench2021_english\"].label.replace({\"hate\":1, \"nothate\":0}, inplace=True)\n",
    "\n",
    "# Fortuna 2019 / Portuguese\n",
    "df_dict[\"fortuna2019_portuguese\"].rename(columns={\"hatespeech_comb\": \"label\"}, inplace=True)\n",
    "\n",
    "# Basile 2019 / Spanish\n",
    "df_dict[\"basile2019_spanish\"].rename(columns={\"HS\": \"label\"}, inplace=True)\n",
    "\n",
    "# Sanguinetti 2020 / Italian\n",
    "df_dict[\"sanguinetti2020_italian\"].rename(columns={\"hs\": \"label\"}, inplace=True)\n",
    "\n",
    "# drop redundant columns\n",
    "for dataset in df_dict:\n",
    "    df_dict[dataset] = df_dict[dataset][[\"text\", \"label\"]]"
   ]
  },
  {
   "cell_type": "markdown",
   "id": "3bb486c0-6d69-47de-ab40-1395cff48b78",
   "metadata": {},
   "source": [
    "## Clean text"
   ]
  },
  {
   "cell_type": "code",
   "execution_count": 4,
   "id": "b5f2180b-49b9-4337-8bf6-918ae0fff373",
   "metadata": {},
   "outputs": [],
   "source": [
    "def clean_text(text):\n",
    "    text = unescape(text)\n",
    "    text = re.sub(r\"@[A-Za-z0-9_-]+\",'[USR]',text)\n",
    "    text = re.sub(r\"http\\S+\",'[URL]',text)\n",
    "    text = re.sub(r\"\\n\",' ',text)\n",
    "    text = re.sub(r\"\\t\",' ',text)\n",
    "    text = text.strip()\n",
    "    return text\n",
    "\n",
    "for dataset in df_dict:\n",
    "    df_dict[dataset][\"text\"] = df_dict[dataset].text.apply(lambda x: clean_text(x))"
   ]
  },
  {
   "cell_type": "markdown",
   "id": "310f11a2-57a3-4f6e-85d8-1e9964695e8a",
   "metadata": {},
   "source": [
    "## Show descriptive stats"
   ]
  },
  {
   "cell_type": "code",
   "execution_count": 5,
   "id": "acf6ea87-7c69-4ead-88e6-7dd675650ccd",
   "metadata": {},
   "outputs": [
    {
     "name": "stdout",
     "output_type": "stream",
     "text": [
      "DYNABENCH2021_ENGLISH\n",
      "41144 entries, of which 22175 (53.90%) are hateful.\n"
     ]
    },
    {
     "data": {
      "text/html": [
       "<div>\n",
       "<style scoped>\n",
       "    .dataframe tbody tr th:only-of-type {\n",
       "        vertical-align: middle;\n",
       "    }\n",
       "\n",
       "    .dataframe tbody tr th {\n",
       "        vertical-align: top;\n",
       "    }\n",
       "\n",
       "    .dataframe thead th {\n",
       "        text-align: right;\n",
       "    }\n",
       "</style>\n",
       "<table border=\"1\" class=\"dataframe\">\n",
       "  <thead>\n",
       "    <tr style=\"text-align: right;\">\n",
       "      <th></th>\n",
       "      <th>text</th>\n",
       "      <th>label</th>\n",
       "    </tr>\n",
       "  </thead>\n",
       "  <tbody>\n",
       "    <tr>\n",
       "      <th>8825</th>\n",
       "      <td>cover your boobs in public if you are breastfeeding, women can be so inappriopriate</td>\n",
       "      <td>1</td>\n",
       "    </tr>\n",
       "    <tr>\n",
       "      <th>674</th>\n",
       "      <td>there's no point in a tucute's existence. Let's get rid of them</td>\n",
       "      <td>1</td>\n",
       "    </tr>\n",
       "    <tr>\n",
       "      <th>28893</th>\n",
       "      <td>hello everyone, Hi there, Is there anyone here who would like to chat with me? I have no friends! We can talk in email or PM on Reddit!, hey bro just tell me, are you a refugee ?</td>\n",
       "      <td>0</td>\n",
       "    </tr>\n",
       "    <tr>\n",
       "      <th>3311</th>\n",
       "      <td>This computer is nothing but useless junk</td>\n",
       "      <td>0</td>\n",
       "    </tr>\n",
       "    <tr>\n",
       "      <th>37081</th>\n",
       "      <td>I can do without homos</td>\n",
       "      <td>1</td>\n",
       "    </tr>\n",
       "  </tbody>\n",
       "</table>\n",
       "</div>"
      ],
      "text/plain": [
       "                                                                                                                                                                                     text  \\\n",
       "8825                                                                                                  cover your boobs in public if you are breastfeeding, women can be so inappriopriate   \n",
       "674                                                                                                                       there's no point in a tucute's existence. Let's get rid of them   \n",
       "28893  hello everyone, Hi there, Is there anyone here who would like to chat with me? I have no friends! We can talk in email or PM on Reddit!, hey bro just tell me, are you a refugee ?   \n",
       "3311                                                                                                                                            This computer is nothing but useless junk   \n",
       "37081                                                                                                                                                              I can do without homos   \n",
       "\n",
       "       label  \n",
       "8825       1  \n",
       "674        1  \n",
       "28893      0  \n",
       "3311       0  \n",
       "37081      1  "
      ]
     },
     "metadata": {},
     "output_type": "display_data"
    },
    {
     "name": "stdout",
     "output_type": "stream",
     "text": [
      "\n",
      "FORTUNA2019_PORTUGUESE\n",
      "5670 entries, of which 1788 (31.53%) are hateful.\n"
     ]
    },
    {
     "data": {
      "text/html": [
       "<div>\n",
       "<style scoped>\n",
       "    .dataframe tbody tr th:only-of-type {\n",
       "        vertical-align: middle;\n",
       "    }\n",
       "\n",
       "    .dataframe tbody tr th {\n",
       "        vertical-align: top;\n",
       "    }\n",
       "\n",
       "    .dataframe thead th {\n",
       "        text-align: right;\n",
       "    }\n",
       "</style>\n",
       "<table border=\"1\" class=\"dataframe\">\n",
       "  <thead>\n",
       "    <tr style=\"text-align: right;\">\n",
       "      <th></th>\n",
       "      <th>text</th>\n",
       "      <th>label</th>\n",
       "    </tr>\n",
       "  </thead>\n",
       "  <tbody>\n",
       "    <tr>\n",
       "      <th>4903</th>\n",
       "      <td>RT [USR]: ESSA MULHER É FODA DEMAIS!! ELA DEVERIA SER EXEMPLO PRA TODAS AS. MULHERES NO MUNDO!  [URL]</td>\n",
       "      <td>0</td>\n",
       "    </tr>\n",
       "    <tr>\n",
       "      <th>4440</th>\n",
       "      <td>RT [USR]: VAGABUNDO CHEGA AGARRANDO AS MENINA SEJEM CAVALHEIROS: OLA TUDO BEM VOCÊ É LINDA SEUS LABIOS DEVEM TER GOSTO DE MÉL VAMO _</td>\n",
       "      <td>1</td>\n",
       "    </tr>\n",
       "    <tr>\n",
       "      <th>3875</th>\n",
       "      <td>RT [USR]: [USR] Volta para a tua terra</td>\n",
       "      <td>1</td>\n",
       "    </tr>\n",
       "    <tr>\n",
       "      <th>2664</th>\n",
       "      <td>[USR] me fala na agenda feminista que dia é o protesto na frente da mesquita islamica que vou la gritar junto [USR]</td>\n",
       "      <td>1</td>\n",
       "    </tr>\n",
       "    <tr>\n",
       "      <th>1771</th>\n",
       "      <td>[USR] [USR] [USR] vai na páginad o Flavio, ele fez uma live explicando</td>\n",
       "      <td>0</td>\n",
       "    </tr>\n",
       "  </tbody>\n",
       "</table>\n",
       "</div>"
      ],
      "text/plain": [
       "                                                                                                                                      text  \\\n",
       "4903                                 RT [USR]: ESSA MULHER É FODA DEMAIS!! ELA DEVERIA SER EXEMPLO PRA TODAS AS. MULHERES NO MUNDO!  [URL]   \n",
       "4440  RT [USR]: VAGABUNDO CHEGA AGARRANDO AS MENINA SEJEM CAVALHEIROS: OLA TUDO BEM VOCÊ É LINDA SEUS LABIOS DEVEM TER GOSTO DE MÉL VAMO _   \n",
       "3875                                                                                                RT [USR]: [USR] Volta para a tua terra   \n",
       "2664                   [USR] me fala na agenda feminista que dia é o protesto na frente da mesquita islamica que vou la gritar junto [USR]   \n",
       "1771                                                                [USR] [USR] [USR] vai na páginad o Flavio, ele fez uma live explicando   \n",
       "\n",
       "      label  \n",
       "4903      0  \n",
       "4440      1  \n",
       "3875      1  \n",
       "2664      1  \n",
       "1771      0  "
      ]
     },
     "metadata": {},
     "output_type": "display_data"
    },
    {
     "name": "stdout",
     "output_type": "stream",
     "text": [
      "\n",
      "BASILE2019_SPANISH\n",
      "4950 entries, of which 2055 (41.52%) are hateful.\n"
     ]
    },
    {
     "data": {
      "text/html": [
       "<div>\n",
       "<style scoped>\n",
       "    .dataframe tbody tr th:only-of-type {\n",
       "        vertical-align: middle;\n",
       "    }\n",
       "\n",
       "    .dataframe tbody tr th {\n",
       "        vertical-align: top;\n",
       "    }\n",
       "\n",
       "    .dataframe thead th {\n",
       "        text-align: right;\n",
       "    }\n",
       "</style>\n",
       "<table border=\"1\" class=\"dataframe\">\n",
       "  <thead>\n",
       "    <tr style=\"text-align: right;\">\n",
       "      <th></th>\n",
       "      <th>text</th>\n",
       "      <th>label</th>\n",
       "    </tr>\n",
       "  </thead>\n",
       "  <tbody>\n",
       "    <tr>\n",
       "      <th>31</th>\n",
       "      <td>me saqué un 9 en el final de biología para vos hija de puta q no me quisiste promocionar por unas centésimas EN TU CARA Y EN TU CANCHA</td>\n",
       "      <td>0</td>\n",
       "    </tr>\n",
       "    <tr>\n",
       "      <th>573</th>\n",
       "      <td>Callate zorra chupa pija</td>\n",
       "      <td>1</td>\n",
       "    </tr>\n",
       "    <tr>\n",
       "      <th>1933</th>\n",
       "      <td>[USR] [USR] [USR] Es que la puta libre lucha denuncia la explotación sexual. No tiene nada que ver! Por la explotación laboral en la industria textil vamos a abolir la industria textil? No. Vamos a perseguir la explotación</td>\n",
       "      <td>0</td>\n",
       "    </tr>\n",
       "    <tr>\n",
       "      <th>2691</th>\n",
       "      <td>Pedro Sánchez cede y autoriza a Open Arms a desembarcar 87 inmigrantes ilegales - Rambla Libre.  \"Que importancia tienen estas admisiones cuando por las costas de Cádiz, en apoyo de las mafias, estamos admitiendo a miles cada semana\" dice Pedro Sánchez.   [URL]</td>\n",
       "      <td>0</td>\n",
       "    </tr>\n",
       "    <tr>\n",
       "      <th>27</th>\n",
       "      <td>[USR] Tu eres demasiado perra 😂</td>\n",
       "      <td>1</td>\n",
       "    </tr>\n",
       "  </tbody>\n",
       "</table>\n",
       "</div>"
      ],
      "text/plain": [
       "                                                                                                                                                                                                                                                                       text  \\\n",
       "31                                                                                                                                   me saqué un 9 en el final de biología para vos hija de puta q no me quisiste promocionar por unas centésimas EN TU CARA Y EN TU CANCHA   \n",
       "573                                                                                                                                                                                                                                                Callate zorra chupa pija   \n",
       "1933                                         [USR] [USR] [USR] Es que la puta libre lucha denuncia la explotación sexual. No tiene nada que ver! Por la explotación laboral en la industria textil vamos a abolir la industria textil? No. Vamos a perseguir la explotación   \n",
       "2691  Pedro Sánchez cede y autoriza a Open Arms a desembarcar 87 inmigrantes ilegales - Rambla Libre.  \"Que importancia tienen estas admisiones cuando por las costas de Cádiz, en apoyo de las mafias, estamos admitiendo a miles cada semana\" dice Pedro Sánchez.   [URL]   \n",
       "27                                                                                                                                                                                                                                          [USR] Tu eres demasiado perra 😂   \n",
       "\n",
       "      label  \n",
       "31        0  \n",
       "573       1  \n",
       "1933      0  \n",
       "2691      0  \n",
       "27        1  "
      ]
     },
     "metadata": {},
     "output_type": "display_data"
    },
    {
     "name": "stdout",
     "output_type": "stream",
     "text": [
      "\n",
      "SANGUINETTI2020_ITALIAN\n",
      "8100 entries, of which 3388 (41.83%) are hateful.\n"
     ]
    },
    {
     "data": {
      "text/html": [
       "<div>\n",
       "<style scoped>\n",
       "    .dataframe tbody tr th:only-of-type {\n",
       "        vertical-align: middle;\n",
       "    }\n",
       "\n",
       "    .dataframe tbody tr th {\n",
       "        vertical-align: top;\n",
       "    }\n",
       "\n",
       "    .dataframe thead th {\n",
       "        text-align: right;\n",
       "    }\n",
       "</style>\n",
       "<table border=\"1\" class=\"dataframe\">\n",
       "  <thead>\n",
       "    <tr style=\"text-align: right;\">\n",
       "      <th></th>\n",
       "      <th>text</th>\n",
       "      <th>label</th>\n",
       "    </tr>\n",
       "  </thead>\n",
       "  <tbody>\n",
       "    <tr>\n",
       "      <th>7552</th>\n",
       "      <td>[USR] Le merde dei #rom non saranno mai come NOI. E tu caro [USR] per continuare a fare #televisione devi continuare a #leccare il culo ai maiali #sinistronzi del #pd. Sei solo un #quacquaracqua.</td>\n",
       "      <td>1</td>\n",
       "    </tr>\n",
       "    <tr>\n",
       "      <th>2205</th>\n",
       "      <td>#GABBIAOPEN l’8% delle nostre imprese è gestito da immigrati. E creano lavoro anche per gli italiani [USR] #welcomerefugees</td>\n",
       "      <td>0</td>\n",
       "    </tr>\n",
       "    <tr>\n",
       "      <th>116</th>\n",
       "      <td>Ministro Esteri dell'Eritrea: \"L'Italia non vuole collaborare con noi su migranti. Perché\" - Il Fogliettone [URL]</td>\n",
       "      <td>0</td>\n",
       "    </tr>\n",
       "    <tr>\n",
       "      <th>7140</th>\n",
       "      <td>SUI #MIGRANTI LA #SINISTRA CON LA BAVA ALLA BOCCA PARLA DI #DEPORTAZIONI E NAZISMO Un trasloco da una struttura che tra l'altro in passato aveva creato problemi fatto passare dalla sinistra come atto razzista, nazista, da lager. Ormai hanno oltrepassato il limite della decenza! [URL]</td>\n",
       "      <td>0</td>\n",
       "    </tr>\n",
       "    <tr>\n",
       "      <th>3126</th>\n",
       "      <td>[USR] [USR] è vero...com'è vero che tutti i terroristi sono musulmani....sarà un caso, mai un valdese ha messo bombe!</td>\n",
       "      <td>1</td>\n",
       "    </tr>\n",
       "  </tbody>\n",
       "</table>\n",
       "</div>"
      ],
      "text/plain": [
       "                                                                                                                                                                                                                                                                                              text  \\\n",
       "7552                                                                                           [USR] Le merde dei #rom non saranno mai come NOI. E tu caro [USR] per continuare a fare #televisione devi continuare a #leccare il culo ai maiali #sinistronzi del #pd. Sei solo un #quacquaracqua.   \n",
       "2205                                                                                                                                                                   #GABBIAOPEN l’8% delle nostre imprese è gestito da immigrati. E creano lavoro anche per gli italiani [USR] #welcomerefugees   \n",
       "116                                                                                                                                                                              Ministro Esteri dell'Eritrea: \"L'Italia non vuole collaborare con noi su migranti. Perché\" - Il Fogliettone [URL]   \n",
       "7140  SUI #MIGRANTI LA #SINISTRA CON LA BAVA ALLA BOCCA PARLA DI #DEPORTAZIONI E NAZISMO Un trasloco da una struttura che tra l'altro in passato aveva creato problemi fatto passare dalla sinistra come atto razzista, nazista, da lager. Ormai hanno oltrepassato il limite della decenza! [URL]   \n",
       "3126                                                                                                                                                                         [USR] [USR] è vero...com'è vero che tutti i terroristi sono musulmani....sarà un caso, mai un valdese ha messo bombe!   \n",
       "\n",
       "      label  \n",
       "7552      1  \n",
       "2205      0  \n",
       "116       0  \n",
       "7140      0  \n",
       "3126      1  "
      ]
     },
     "metadata": {},
     "output_type": "display_data"
    },
    {
     "name": "stdout",
     "output_type": "stream",
     "text": [
      "\n"
     ]
    }
   ],
   "source": [
    "def descriptive_stats(df):\n",
    "    n_total = df.shape[0]\n",
    "    n_hate = df.label.sum()\n",
    "    print(\"{} entries, of which {} ({:.2%}) are hateful.\".format(n_total, n_hate, n_hate/n_total))\n",
    "    return df.label.sum()/len(df), len(df)\n",
    "\n",
    "for dataset in df_dict:\n",
    "    print(dataset.upper())\n",
    "    descriptive_stats(df_dict[dataset])\n",
    "    display(df_dict[dataset].sample(5))\n",
    "    print()"
   ]
  },
  {
   "cell_type": "markdown",
   "id": "e5c79d7f-8abc-4b7b-957d-073051f468fe",
   "metadata": {},
   "source": [
    "## Create and export splits"
   ]
  },
  {
   "cell_type": "code",
   "execution_count": 6,
   "id": "99d2e82a-460f-4fe4-b777-fe34ae08c5f0",
   "metadata": {},
   "outputs": [],
   "source": [
    "# set aside 2.5k from each dataset for testing\n",
    "\n",
    "TEST_SIZE = 2500\n",
    "\n",
    "for dataset in df_dict:\n",
    "    df_dict[dataset], testset = train_test_split(df_dict[dataset], test_size = TEST_SIZE, random_state=123)\n",
    "    testset.to_csv(f\"./data/1_clean/{dataset}/test_{TEST_SIZE}.csv\", index=False)"
   ]
  },
  {
   "cell_type": "code",
   "execution_count": 7,
   "id": "38589148-db3a-4ae9-8b65-7cea81f12cd8",
   "metadata": {},
   "outputs": [],
   "source": [
    "# create differently-sized train portions from rest of data\n",
    "\n",
    "SEEDS = 10 # for repeated experiments with different random data selection\n",
    "N_RANGE = [10, 20, 50, 100, 200, 500, 1000, 2000, 5000, 10000, 20000]\n",
    "\n",
    "for dataset in df_dict:\n",
    "    for n in N_RANGE:\n",
    "        if n<len(df_dict[dataset]):\n",
    "            for random_state in range(1, SEEDS+1):\n",
    "                df_dict[dataset].sample(n, random_state = random_state).to_csv(f\"./data/1_clean/{dataset}/train/train_{n}_rs{random_state}.csv\",index=False)"
   ]
  }
 ],
 "metadata": {
  "kernelspec": {
   "display_name": "customisability-env",
   "language": "python",
   "name": "customisability-env"
  },
  "language_info": {
   "codemirror_mode": {
    "name": "ipython",
    "version": 3
   },
   "file_extension": ".py",
   "mimetype": "text/x-python",
   "name": "python",
   "nbconvert_exporter": "python",
   "pygments_lexer": "ipython3",
   "version": "3.9.7"
  }
 },
 "nbformat": 4,
 "nbformat_minor": 5
}
