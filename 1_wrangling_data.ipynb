{
 "cells": [
  {
   "cell_type": "code",
   "execution_count": 1,
   "id": "f13adda2",
   "metadata": {},
   "outputs": [],
   "source": [
    "# import relevant packages\n",
    "\n",
    "import pandas as pd\n",
    "import os\n",
    "import re\n",
    "\n",
    "from html import unescape\n",
    "from sklearn.model_selection import train_test_split\n",
    "\n",
    "pd.set_option('display.max_colwidth', None)"
   ]
  },
  {
   "cell_type": "markdown",
   "id": "f2dbcb7d-80d9-42c9-b391-cf6e785ae5eb",
   "metadata": {},
   "source": [
    "## Load raw datasets"
   ]
  },
  {
   "cell_type": "code",
   "execution_count": 2,
   "id": "751cc58c-ca94-42c7-b1bd-a1d1e23ebdd1",
   "metadata": {},
   "outputs": [
    {
     "name": "stdout",
     "output_type": "stream",
     "text": [
      "dynabench2021_english.csv\n",
      "fortuna2019_portuguese.csv\n",
      "basile2019_spanish.csv\n",
      "sanguinetti2020_italian.csv\n"
     ]
    }
   ],
   "source": [
    "df_dict = dict()\n",
    "\n",
    "PATH = \"./data/0_raw\"\n",
    "\n",
    "for file in os.listdir(PATH):\n",
    "    if \"ipynb\" not in file:\n",
    "        print(file)\n",
    "        df_dict[file.removesuffix(\".csv\")] = pd.read_csv(f\"{PATH}/{file}\")"
   ]
  },
  {
   "cell_type": "markdown",
   "id": "bed7ed05-5188-48b5-a2ca-338ebadd806b",
   "metadata": {},
   "source": [
    "## Reformat columns\n",
    "Need separate logic for different datasets. 1 is for hateful, 0 for non-hateful."
   ]
  },
  {
   "cell_type": "code",
   "execution_count": 3,
   "id": "f13277bd-80b3-4664-854c-9067973ff9c5",
   "metadata": {},
   "outputs": [],
   "source": [
    "# Dynabench 2021 / English\n",
    "df_dict[\"dynabench2021_english\"].label.replace({\"hate\":1, \"nothate\":0}, inplace=True)\n",
    "\n",
    "# Fortuna 2019 / Portuguese\n",
    "df_dict[\"fortuna2019_portuguese\"].rename(columns={\"hatespeech_comb\": \"label\"}, inplace=True)\n",
    "\n",
    "# Basile 2019 / Spanish\n",
    "df_dict[\"basile2019_spanish\"].rename(columns={\"HS\": \"label\"}, inplace=True)\n",
    "\n",
    "# Sanguinetti 2020 / Italian\n",
    "df_dict[\"sanguinetti2020_italian\"].rename(columns={\"hs\": \"label\"}, inplace=True)\n",
    "\n",
    "# drop redundant columns\n",
    "for dataset in df_dict:\n",
    "    df_dict[dataset] = df_dict[dataset][[\"text\", \"label\"]]"
   ]
  },
  {
   "cell_type": "markdown",
   "id": "3bb486c0-6d69-47de-ab40-1395cff48b78",
   "metadata": {},
   "source": [
    "## Clean text"
   ]
  },
  {
   "cell_type": "code",
   "execution_count": 4,
   "id": "b5f2180b-49b9-4337-8bf6-918ae0fff373",
   "metadata": {},
   "outputs": [],
   "source": [
    "def clean_text(text):\n",
    "    text = unescape(text)\n",
    "    text = re.sub(r\"@[A-Za-z0-9_-]+\",'[USR]',text)\n",
    "    text = re.sub(r\"http\\S+\",'[URL]',text)\n",
    "    text = re.sub(r\"\\n\",' ',text)\n",
    "    text = re.sub(r\"\\t\",' ',text)\n",
    "    text = text.strip()\n",
    "    return text\n",
    "\n",
    "for dataset in df_dict:\n",
    "    df_dict[dataset][\"text\"] = df_dict[dataset].text.apply(lambda x: clean_text(x))"
   ]
  },
  {
   "cell_type": "markdown",
   "id": "310f11a2-57a3-4f6e-85d8-1e9964695e8a",
   "metadata": {},
   "source": [
    "## Show descriptive stats"
   ]
  },
  {
   "cell_type": "code",
   "execution_count": 5,
   "id": "acf6ea87-7c69-4ead-88e6-7dd675650ccd",
   "metadata": {},
   "outputs": [
    {
     "name": "stdout",
     "output_type": "stream",
     "text": [
      "DYNABENCH2021_ENGLISH\n",
      "41144 entries, of which 22175 (53.90%) are hateful.\n"
     ]
    },
    {
     "data": {
      "text/html": [
       "<div>\n",
       "<style scoped>\n",
       "    .dataframe tbody tr th:only-of-type {\n",
       "        vertical-align: middle;\n",
       "    }\n",
       "\n",
       "    .dataframe tbody tr th {\n",
       "        vertical-align: top;\n",
       "    }\n",
       "\n",
       "    .dataframe thead th {\n",
       "        text-align: right;\n",
       "    }\n",
       "</style>\n",
       "<table border=\"1\" class=\"dataframe\">\n",
       "  <thead>\n",
       "    <tr style=\"text-align: right;\">\n",
       "      <th></th>\n",
       "      <th>text</th>\n",
       "      <th>label</th>\n",
       "    </tr>\n",
       "  </thead>\n",
       "  <tbody>\n",
       "    <tr>\n",
       "      <th>32504</th>\n",
       "      <td>REMINDER: You're under Constitutional obligation to give a sh*t about black people, hispanic people or anyone else...</td>\n",
       "      <td>0</td>\n",
       "    </tr>\n",
       "    <tr>\n",
       "      <th>1010</th>\n",
       "      <td>Gay men hate women</td>\n",
       "      <td>1</td>\n",
       "    </tr>\n",
       "    <tr>\n",
       "      <th>6682</th>\n",
       "      <td>chink is a fucking unethical concept</td>\n",
       "      <td>0</td>\n",
       "    </tr>\n",
       "    <tr>\n",
       "      <th>41024</th>\n",
       "      <td>Politicians are rubbish</td>\n",
       "      <td>0</td>\n",
       "    </tr>\n",
       "    <tr>\n",
       "      <th>30724</th>\n",
       "      <td>The French have always had looser morals than the rest of the world, but were also the most accepting of homosexuality. It is because of it being degenerate behaviour, not a coincidence.</td>\n",
       "      <td>1</td>\n",
       "    </tr>\n",
       "  </tbody>\n",
       "</table>\n",
       "</div>"
      ],
      "text/plain": [
       "                                                                                                                                                                                             text  \\\n",
       "32504                                                                       REMINDER: You're under Constitutional obligation to give a sh*t about black people, hispanic people or anyone else...   \n",
       "1010                                                                                                                                                                           Gay men hate women   \n",
       "6682                                                                                                                                                         chink is a fucking unethical concept   \n",
       "41024                                                                                                                                                                     Politicians are rubbish   \n",
       "30724  The French have always had looser morals than the rest of the world, but were also the most accepting of homosexuality. It is because of it being degenerate behaviour, not a coincidence.   \n",
       "\n",
       "       label  \n",
       "32504      0  \n",
       "1010       1  \n",
       "6682       0  \n",
       "41024      0  \n",
       "30724      1  "
      ]
     },
     "metadata": {},
     "output_type": "display_data"
    },
    {
     "name": "stdout",
     "output_type": "stream",
     "text": [
      "\n",
      "FORTUNA2019_PORTUGUESE\n",
      "5670 entries, of which 1788 (31.53%) are hateful.\n"
     ]
    },
    {
     "data": {
      "text/html": [
       "<div>\n",
       "<style scoped>\n",
       "    .dataframe tbody tr th:only-of-type {\n",
       "        vertical-align: middle;\n",
       "    }\n",
       "\n",
       "    .dataframe tbody tr th {\n",
       "        vertical-align: top;\n",
       "    }\n",
       "\n",
       "    .dataframe thead th {\n",
       "        text-align: right;\n",
       "    }\n",
       "</style>\n",
       "<table border=\"1\" class=\"dataframe\">\n",
       "  <thead>\n",
       "    <tr style=\"text-align: right;\">\n",
       "      <th></th>\n",
       "      <th>text</th>\n",
       "      <th>label</th>\n",
       "    </tr>\n",
       "  </thead>\n",
       "  <tbody>\n",
       "    <tr>\n",
       "      <th>1852</th>\n",
       "      <td>[USR] pensava: sou horrorosa, gorda, tosca, feia, chata. ngm vai me querer. n mereço ngm alem dessa pessoa.</td>\n",
       "      <td>0</td>\n",
       "    </tr>\n",
       "    <tr>\n",
       "      <th>5513</th>\n",
       "      <td>'Vai também ser lançado um manual de boas maneiras para lidar com fufas, gays e transsexuais, os chamados LGTB' - notícias matinais na rádio</td>\n",
       "      <td>1</td>\n",
       "    </tr>\n",
       "    <tr>\n",
       "      <th>2436</th>\n",
       "      <td>Lívia Nepomuceno, FOX Sports. Só consigo olhar para uma coisa. Duas, no caso. [URL]</td>\n",
       "      <td>0</td>\n",
       "    </tr>\n",
       "    <tr>\n",
       "      <th>5065</th>\n",
       "      <td>Sem dúvida que os nacionalistas falam a mesma linguagem. Cá como lá, ao lado das forças da ordem! [USR] _ [URL]</td>\n",
       "      <td>0</td>\n",
       "    </tr>\n",
       "    <tr>\n",
       "      <th>5415</th>\n",
       "      <td>Uber de puta: a mulher não quer ser uma GP,  mas precisa de uma grana, vai lá e dá uma. Mais barato e mais prático Fica a ideia ae</td>\n",
       "      <td>1</td>\n",
       "    </tr>\n",
       "  </tbody>\n",
       "</table>\n",
       "</div>"
      ],
      "text/plain": [
       "                                                                                                                                              text  \\\n",
       "1852                                   [USR] pensava: sou horrorosa, gorda, tosca, feia, chata. ngm vai me querer. n mereço ngm alem dessa pessoa.   \n",
       "5513  'Vai também ser lançado um manual de boas maneiras para lidar com fufas, gays e transsexuais, os chamados LGTB' - notícias matinais na rádio   \n",
       "2436                                                           Lívia Nepomuceno, FOX Sports. Só consigo olhar para uma coisa. Duas, no caso. [URL]   \n",
       "5065                               Sem dúvida que os nacionalistas falam a mesma linguagem. Cá como lá, ao lado das forças da ordem! [USR] _ [URL]   \n",
       "5415            Uber de puta: a mulher não quer ser uma GP,  mas precisa de uma grana, vai lá e dá uma. Mais barato e mais prático Fica a ideia ae   \n",
       "\n",
       "      label  \n",
       "1852      0  \n",
       "5513      1  \n",
       "2436      0  \n",
       "5065      0  \n",
       "5415      1  "
      ]
     },
     "metadata": {},
     "output_type": "display_data"
    },
    {
     "name": "stdout",
     "output_type": "stream",
     "text": [
      "\n",
      "BASILE2019_SPANISH\n",
      "6600 entries, of which 2739 (41.50%) are hateful.\n"
     ]
    },
    {
     "data": {
      "text/html": [
       "<div>\n",
       "<style scoped>\n",
       "    .dataframe tbody tr th:only-of-type {\n",
       "        vertical-align: middle;\n",
       "    }\n",
       "\n",
       "    .dataframe tbody tr th {\n",
       "        vertical-align: top;\n",
       "    }\n",
       "\n",
       "    .dataframe thead th {\n",
       "        text-align: right;\n",
       "    }\n",
       "</style>\n",
       "<table border=\"1\" class=\"dataframe\">\n",
       "  <thead>\n",
       "    <tr style=\"text-align: right;\">\n",
       "      <th></th>\n",
       "      <th>text</th>\n",
       "      <th>label</th>\n",
       "    </tr>\n",
       "  </thead>\n",
       "  <tbody>\n",
       "    <tr>\n",
       "      <th>1081</th>\n",
       "      <td>[USR] TU ERES UNA PUTA DE NOM GUARRA.</td>\n",
       "      <td>1</td>\n",
       "    </tr>\n",
       "    <tr>\n",
       "      <th>373</th>\n",
       "      <td>Puta madre😩 mi novia es una belleza 😍😩</td>\n",
       "      <td>0</td>\n",
       "    </tr>\n",
       "    <tr>\n",
       "      <th>2813</th>\n",
       "      <td>-En que se parece una mujer a una foca ? -En que una es gorda, tiene bigote y huele a pescado y la otra vive en el mar</td>\n",
       "      <td>1</td>\n",
       "    </tr>\n",
       "    <tr>\n",
       "      <th>6284</th>\n",
       "      <td>[USR] La ley debe ser para todos igual, cualquier preferencia convierte la ley en papel sin valor.  Soy inmigrante ahora y me apego a la legalidad q me exigen, pero aquí hay preferencias \"humanitarias\" con sesgo político</td>\n",
       "      <td>0</td>\n",
       "    </tr>\n",
       "    <tr>\n",
       "      <th>1684</th>\n",
       "      <td>CÁLLATE PUTA ZORRA BORRACHA DROGADICTA [URL]</td>\n",
       "      <td>1</td>\n",
       "    </tr>\n",
       "  </tbody>\n",
       "</table>\n",
       "</div>"
      ],
      "text/plain": [
       "                                                                                                                                                                                                                              text  \\\n",
       "1081                                                                                                                                                                                         [USR] TU ERES UNA PUTA DE NOM GUARRA.   \n",
       "373                                                                                                                                                                                         Puta madre😩 mi novia es una belleza 😍😩   \n",
       "2813                                                                                                        -En que se parece una mujer a una foca ? -En que una es gorda, tiene bigote y huele a pescado y la otra vive en el mar   \n",
       "6284  [USR] La ley debe ser para todos igual, cualquier preferencia convierte la ley en papel sin valor.  Soy inmigrante ahora y me apego a la legalidad q me exigen, pero aquí hay preferencias \"humanitarias\" con sesgo político   \n",
       "1684                                                                                                                                                                                  CÁLLATE PUTA ZORRA BORRACHA DROGADICTA [URL]   \n",
       "\n",
       "      label  \n",
       "1081      1  \n",
       "373       0  \n",
       "2813      1  \n",
       "6284      0  \n",
       "1684      1  "
      ]
     },
     "metadata": {},
     "output_type": "display_data"
    },
    {
     "name": "stdout",
     "output_type": "stream",
     "text": [
      "\n",
      "SANGUINETTI2020_ITALIAN\n",
      "8100 entries, of which 3388 (41.83%) are hateful.\n"
     ]
    },
    {
     "data": {
      "text/html": [
       "<div>\n",
       "<style scoped>\n",
       "    .dataframe tbody tr th:only-of-type {\n",
       "        vertical-align: middle;\n",
       "    }\n",
       "\n",
       "    .dataframe tbody tr th {\n",
       "        vertical-align: top;\n",
       "    }\n",
       "\n",
       "    .dataframe thead th {\n",
       "        text-align: right;\n",
       "    }\n",
       "</style>\n",
       "<table border=\"1\" class=\"dataframe\">\n",
       "  <thead>\n",
       "    <tr style=\"text-align: right;\">\n",
       "      <th></th>\n",
       "      <th>text</th>\n",
       "      <th>label</th>\n",
       "    </tr>\n",
       "  </thead>\n",
       "  <tbody>\n",
       "    <tr>\n",
       "      <th>224</th>\n",
       "      <td>[USR] non vogliamo rom disonesti, ok, io non voglio neanche italiani disonesti, tutto qui.</td>\n",
       "      <td>0</td>\n",
       "    </tr>\n",
       "    <tr>\n",
       "      <th>5630</th>\n",
       "      <td>Dedicato alla sinistra che giustifica il reato di favoreggiamento dell'immigrazione clandestina e sputa sulla legalità. Vergogna buonista. [URL]</td>\n",
       "      <td>0</td>\n",
       "    </tr>\n",
       "    <tr>\n",
       "      <th>3689</th>\n",
       "      <td>Ogni #suicidio che avviene per colpa della #crisi deve fare #riflettere il #governo.pagare i #terroristi si, #imprendiotri #impiccati</td>\n",
       "      <td>1</td>\n",
       "    </tr>\n",
       "    <tr>\n",
       "      <th>7262</th>\n",
       "      <td>[USR] Lo so, lo so, alla gente piaciono i morbidi, i paciosi, quelli che ti dicono \"va tutto bene\" anche quando stai per morire. Capisco. Il problema è che qui si sta demolendo tutto e l'attenzione è solo su sti cazzo di migranti. Affondatele quelle cazzo di navi perdiana.</td>\n",
       "      <td>1</td>\n",
       "    </tr>\n",
       "    <tr>\n",
       "      <th>995</th>\n",
       "      <td>#Milano ville abusive dei nomadi [URL] “Se costruisco io demoliscono in un giorno se costruiscono rom non succede nulla”</td>\n",
       "      <td>0</td>\n",
       "    </tr>\n",
       "  </tbody>\n",
       "</table>\n",
       "</div>"
      ],
      "text/plain": [
       "                                                                                                                                                                                                                                                                                   text  \\\n",
       "224                                                                                                                                                                                          [USR] non vogliamo rom disonesti, ok, io non voglio neanche italiani disonesti, tutto qui.   \n",
       "5630                                                                                                                                   Dedicato alla sinistra che giustifica il reato di favoreggiamento dell'immigrazione clandestina e sputa sulla legalità. Vergogna buonista. [URL]   \n",
       "3689                                                                                                                                              Ogni #suicidio che avviene per colpa della #crisi deve fare #riflettere il #governo.pagare i #terroristi si, #imprendiotri #impiccati   \n",
       "7262  [USR] Lo so, lo so, alla gente piaciono i morbidi, i paciosi, quelli che ti dicono \"va tutto bene\" anche quando stai per morire. Capisco. Il problema è che qui si sta demolendo tutto e l'attenzione è solo su sti cazzo di migranti. Affondatele quelle cazzo di navi perdiana.   \n",
       "995                                                                                                                                                            #Milano ville abusive dei nomadi [URL] “Se costruisco io demoliscono in un giorno se costruiscono rom non succede nulla”   \n",
       "\n",
       "      label  \n",
       "224       0  \n",
       "5630      0  \n",
       "3689      1  \n",
       "7262      1  \n",
       "995       0  "
      ]
     },
     "metadata": {},
     "output_type": "display_data"
    },
    {
     "name": "stdout",
     "output_type": "stream",
     "text": [
      "\n"
     ]
    }
   ],
   "source": [
    "def descriptive_stats(df):\n",
    "    n_total = df.shape[0]\n",
    "    n_hate = df.label.sum()\n",
    "    print(\"{} entries, of which {} ({:.2%}) are hateful.\".format(n_total, n_hate, n_hate/n_total))\n",
    "    return df.label.sum()/len(df), len(df)\n",
    "\n",
    "for dataset in df_dict:\n",
    "    print(dataset.upper())\n",
    "    descriptive_stats(df_dict[dataset])\n",
    "    display(df_dict[dataset].sample(5))\n",
    "    print()"
   ]
  },
  {
   "cell_type": "markdown",
   "id": "e5c79d7f-8abc-4b7b-957d-073051f468fe",
   "metadata": {},
   "source": [
    "## Create and export splits"
   ]
  },
  {
   "cell_type": "code",
   "execution_count": 6,
   "id": "99d2e82a-460f-4fe4-b777-fe34ae08c5f0",
   "metadata": {},
   "outputs": [],
   "source": [
    "# set aside 2.5k from each dataset for testing\n",
    "\n",
    "TEST_SIZE = 2500\n",
    "\n",
    "for dataset in df_dict:\n",
    "    df_dict[dataset], testset = train_test_split(df_dict[dataset], test_size = TEST_SIZE, random_state=123)\n",
    "    testset.to_csv(f\"./data/1_clean/{dataset}/test_{TEST_SIZE}.csv\", index=False)"
   ]
  },
  {
   "cell_type": "code",
   "execution_count": 7,
   "id": "38589148-db3a-4ae9-8b65-7cea81f12cd8",
   "metadata": {},
   "outputs": [],
   "source": [
    "# create differently-sized train portions from rest of data\n",
    "\n",
    "SEEDS = 10 # for repeated experiments with different random data selection\n",
    "N_RANGE = [10, 20, 50, 100, 200, 500, 1000, 2000, 5000, 10000, 20000]\n",
    "\n",
    "for dataset in df_dict:\n",
    "    for n in N_RANGE:\n",
    "        if n<len(df_dict[dataset]):\n",
    "            for random_state in range(1, SEEDS+1):\n",
    "                df_dict[dataset].sample(n, random_state = random_state).to_csv(f\"./data/1_clean/{dataset}/train/train_{n}_rs{random_state}.csv\",index=False)"
   ]
  }
 ],
 "metadata": {
  "kernelspec": {
   "display_name": "customisability-env",
   "language": "python",
   "name": "customisability-env"
  },
  "language_info": {
   "codemirror_mode": {
    "name": "ipython",
    "version": 3
   },
   "file_extension": ".py",
   "mimetype": "text/x-python",
   "name": "python",
   "nbconvert_exporter": "python",
   "pygments_lexer": "ipython3",
   "version": "3.9.7"
  }
 },
 "nbformat": 4,
 "nbformat_minor": 5
}
