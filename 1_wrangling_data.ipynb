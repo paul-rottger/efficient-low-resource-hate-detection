{
 "cells": [
  {
   "cell_type": "code",
   "execution_count": 1,
   "id": "f13adda2",
   "metadata": {},
   "outputs": [],
   "source": [
    "# import relevant packages\n",
    "import os\n",
    "import pandas as pd\n",
    "import re\n",
    "from html import unescape\n",
    "from sklearn.model_selection import train_test_split"
   ]
  },
  {
   "cell_type": "markdown",
   "id": "f2dbcb7d-80d9-42c9-b391-cf6e785ae5eb",
   "metadata": {},
   "source": [
    "## Load raw datasets"
   ]
  },
  {
   "cell_type": "code",
   "execution_count": 7,
   "id": "751cc58c-ca94-42c7-b1bd-a1d1e23ebdd1",
   "metadata": {},
   "outputs": [
    {
     "name": "stdout",
     "output_type": "stream",
     "text": [
      "fortuna2019_portuguese.csv\n",
      "basile2019_spanish.csv\n",
      "sanguinetti2020_italian.csv\n"
     ]
    }
   ],
   "source": [
    "df_dict = dict()\n",
    "\n",
    "PATH = \"./data/0_raw\"\n",
    "\n",
    "for file in os.listdir(PATH):\n",
    "    print(file)\n",
    "    df_dict[file.removesuffix(\".csv\")] = pd.read_csv(f\"{PATH}/{file}\")"
   ]
  },
  {
   "cell_type": "markdown",
   "id": "bed7ed05-5188-48b5-a2ca-338ebadd806b",
   "metadata": {},
   "source": [
    "## Reformat columns"
   ]
  },
  {
   "cell_type": "markdown",
   "id": "3bb486c0-6d69-47de-ab40-1395cff48b78",
   "metadata": {},
   "source": [
    "## Clean text"
   ]
  },
  {
   "cell_type": "code",
   "execution_count": null,
   "id": "035812ba-f4be-4840-99e1-fbb5b8dd149c",
   "metadata": {},
   "outputs": [],
   "source": []
  },
  {
   "cell_type": "markdown",
   "id": "e5c79d7f-8abc-4b7b-957d-073051f468fe",
   "metadata": {},
   "source": [
    "## Create and save splits"
   ]
  },
  {
   "cell_type": "code",
   "execution_count": null,
   "id": "38589148-db3a-4ae9-8b65-7cea81f12cd8",
   "metadata": {},
   "outputs": [],
   "source": []
  },
  {
   "cell_type": "code",
   "execution_count": 5,
   "id": "90a98f6d",
   "metadata": {},
   "outputs": [],
   "source": [
    "# calculates the percentage of positive class in a dataset\n",
    "def _hate_percentage(df):\n",
    "    return df.label.sum()/len(df), len(df)\n",
    "\n",
    "def _percentage_message(percentage, split_name, dataset_name):\n",
    "    # displays the percentage of the positive class in a dataset\n",
    "    print(f'percentage of hate in {split_name} in {dataset_name} is {percentage[0]*100:.2f}% out of {percentage[1]} examples')\n",
    "\n",
    "def _dataset_save(df, language, split):\n",
    "    # a function to save the resultant data splits\n",
    "    path = os.path.abspath('data')\n",
    "    path = os.path.join(f'data/{language}/{split}/')\n",
    "    df.to_csv(os.path.join(path, 'data.csv'), index=False)\n",
    "    \n",
    "def _clean_text(text):\n",
    "    # a function that contains the entire logic for text cleaning\n",
    "    text = unescape(text)\n",
    "    text = re.sub(r\"@[A-Za-z0-9_-]+\",'@user',text)\n",
    "    text = re.sub(r\"http\\S+\",'[URL]',text)\n",
    "    text = re.sub(r\"\\n\",' ',text)\n",
    "    text = re.sub(r\"\\t\",' ',text)\n",
    "    text = text.strip()\n",
    "    return text\n",
    "\n",
    "def spliter(df, language, random_state=123):\n",
    "    # encapsulates the logic to split the portuguese and spanish datasets into three splits\n",
    "    # and saving them to disk\n",
    "    train, devtest = train_test_split(df, test_size=0.2, stratify=df.label, random_state=random_state)\n",
    "    dev, test = train_test_split(devtest, test_size=0.5, stratify=devtest.label, random_state=random_state)\n",
    "    _percentage_message(_hate_percentage(df), 'total', language)\n",
    "    _percentage_message(_hate_percentage(train), 'train', language)\n",
    "    _percentage_message(_hate_percentage(dev), 'val', language)\n",
    "    _percentage_message(_hate_percentage(test), 'test', language)\n",
    "    _dataset_save(train, language, 'train')\n",
    "    _dataset_save(dev, language, 'val')\n",
    "    _dataset_save(test, language, 'test')"
   ]
  },
  {
   "cell_type": "markdown",
   "id": "8d7e7989",
   "metadata": {},
   "source": [
    "## Portuguese"
   ]
  },
  {
   "cell_type": "markdown",
   "id": "4883a776",
   "metadata": {},
   "source": [
    "We start by loading the Portuguese dataset and displaying the first five lines."
   ]
  },
  {
   "cell_type": "code",
   "execution_count": 3,
   "id": "7ff357a4-d7c0-45f1-8308-dc261ebe3bbb",
   "metadata": {},
   "outputs": [
    {
     "data": {
      "text/html": [
       "<div>\n",
       "<style scoped>\n",
       "    .dataframe tbody tr th:only-of-type {\n",
       "        vertical-align: middle;\n",
       "    }\n",
       "\n",
       "    .dataframe tbody tr th {\n",
       "        vertical-align: top;\n",
       "    }\n",
       "\n",
       "    .dataframe thead th {\n",
       "        text-align: right;\n",
       "    }\n",
       "</style>\n",
       "<table border=\"1\" class=\"dataframe\">\n",
       "  <thead>\n",
       "    <tr style=\"text-align: right;\">\n",
       "      <th></th>\n",
       "      <th>text</th>\n",
       "      <th>hatespeech_comb</th>\n",
       "      <th>hatespeech_G1</th>\n",
       "      <th>annotator_G1</th>\n",
       "      <th>hatespeech_G2</th>\n",
       "      <th>annotator_G2</th>\n",
       "      <th>hatespeech_G3</th>\n",
       "      <th>annotator_G3</th>\n",
       "    </tr>\n",
       "  </thead>\n",
       "  <tbody>\n",
       "    <tr>\n",
       "      <th>0</th>\n",
       "      <td>@__andrea__b \\nO cara vive em outro mundo\\nNão...</td>\n",
       "      <td>1</td>\n",
       "      <td>1</td>\n",
       "      <td>A</td>\n",
       "      <td>1.0</td>\n",
       "      <td>V</td>\n",
       "      <td>0</td>\n",
       "      <td>E</td>\n",
       "    </tr>\n",
       "    <tr>\n",
       "      <th>1</th>\n",
       "      <td>@_carmeloneto Estes incompetentes não cuidam n...</td>\n",
       "      <td>0</td>\n",
       "      <td>1</td>\n",
       "      <td>D</td>\n",
       "      <td>0.0</td>\n",
       "      <td>V</td>\n",
       "      <td>0</td>\n",
       "      <td>C</td>\n",
       "    </tr>\n",
       "    <tr>\n",
       "      <th>2</th>\n",
       "      <td>@_carmeloneto \\nOs 'cumpanhero' quebraram toda...</td>\n",
       "      <td>0</td>\n",
       "      <td>1</td>\n",
       "      <td>A</td>\n",
       "      <td>0.0</td>\n",
       "      <td>B</td>\n",
       "      <td>0</td>\n",
       "      <td>E</td>\n",
       "    </tr>\n",
       "    <tr>\n",
       "      <th>3</th>\n",
       "      <td>@_GlitteryKisses é isso não conseguem pensar n...</td>\n",
       "      <td>0</td>\n",
       "      <td>0</td>\n",
       "      <td>C</td>\n",
       "      <td>0.0</td>\n",
       "      <td>V</td>\n",
       "      <td>0</td>\n",
       "      <td>D</td>\n",
       "    </tr>\n",
       "    <tr>\n",
       "      <th>4</th>\n",
       "      <td>@_iglira bom dia macaco branco haha</td>\n",
       "      <td>1</td>\n",
       "      <td>0</td>\n",
       "      <td>A</td>\n",
       "      <td>1.0</td>\n",
       "      <td>I</td>\n",
       "      <td>1</td>\n",
       "      <td>E</td>\n",
       "    </tr>\n",
       "  </tbody>\n",
       "</table>\n",
       "</div>"
      ],
      "text/plain": [
       "                                                text  hatespeech_comb  \\\n",
       "0  @__andrea__b \\nO cara vive em outro mundo\\nNão...                1   \n",
       "1  @_carmeloneto Estes incompetentes não cuidam n...                0   \n",
       "2  @_carmeloneto \\nOs 'cumpanhero' quebraram toda...                0   \n",
       "3  @_GlitteryKisses é isso não conseguem pensar n...                0   \n",
       "4                @_iglira bom dia macaco branco haha                1   \n",
       "\n",
       "   hatespeech_G1 annotator_G1  hatespeech_G2 annotator_G2  hatespeech_G3  \\\n",
       "0              1            A            1.0            V              0   \n",
       "1              1            D            0.0            V              0   \n",
       "2              1            A            0.0            B              0   \n",
       "3              0            C            0.0            V              0   \n",
       "4              0            A            1.0            I              1   \n",
       "\n",
       "  annotator_G3  \n",
       "0            E  \n",
       "1            C  \n",
       "2            E  \n",
       "3            D  \n",
       "4            E  "
      ]
     },
     "execution_count": 3,
     "metadata": {},
     "output_type": "execute_result"
    }
   ],
   "source": [
    "df_portuguese = pd.read_csv(\"data/raw_datasets/fortuna2019_portuguese.csv\")\n",
    "df_portuguese.head()"
   ]
  },
  {
   "cell_type": "markdown",
   "id": "2a01cb4f",
   "metadata": {},
   "source": [
    "We encapsulates the logic to preprocess the Portuguese dataset in a function, and then apply it to the dataset."
   ]
  },
  {
   "cell_type": "code",
   "execution_count": 4,
   "id": "fea5c410",
   "metadata": {},
   "outputs": [
    {
     "name": "stdout",
     "output_type": "stream",
     "text": [
      "percentage of hate in total in Portuguese is 31.53% out of 5670 examples\n",
      "percentage of hate in train in Portuguese is 31.53% out of 4536 examples\n",
      "percentage of hate in val in Portuguese is 31.57% out of 567 examples\n",
      "percentage of hate in test in Portuguese is 31.57% out of 567 examples\n"
     ]
    }
   ],
   "source": [
    "def fortuna_preprocess(df):\n",
    "    # encapsulates the logic to preprocess the portuguese dataset\n",
    "    df = df.rename(columns={\"hatespeech_comb\": \"label\"})\n",
    "    df[\"text\"] = df[\"text\"].apply(lambda x: _clean_text(x))\n",
    "    df = df[df.columns[df.columns.isin(['text', 'label'])]]\n",
    "    return df\n",
    "\n",
    "df_portuguese = fortuna_preprocess(df_portuguese)\n",
    "spliter(df_portuguese, 'Portuguese')"
   ]
  },
  {
   "cell_type": "markdown",
   "id": "f54fed3e",
   "metadata": {},
   "source": [
    "## Italian"
   ]
  },
  {
   "cell_type": "markdown",
   "id": "c0edad2e",
   "metadata": {},
   "source": [
    "We load the Italian dataset and inspect the first few lines."
   ]
  },
  {
   "cell_type": "code",
   "execution_count": 6,
   "id": "141525bb",
   "metadata": {},
   "outputs": [
    {
     "data": {
      "text/html": [
       "<div>\n",
       "<style scoped>\n",
       "    .dataframe tbody tr th:only-of-type {\n",
       "        vertical-align: middle;\n",
       "    }\n",
       "\n",
       "    .dataframe tbody tr th {\n",
       "        vertical-align: top;\n",
       "    }\n",
       "\n",
       "    .dataframe thead th {\n",
       "        text-align: right;\n",
       "    }\n",
       "</style>\n",
       "<table border=\"1\" class=\"dataframe\">\n",
       "  <thead>\n",
       "    <tr style=\"text-align: right;\">\n",
       "      <th></th>\n",
       "      <th>id</th>\n",
       "      <th>text</th>\n",
       "      <th>hs</th>\n",
       "      <th>stereotype</th>\n",
       "      <th>split</th>\n",
       "    </tr>\n",
       "  </thead>\n",
       "  <tbody>\n",
       "    <tr>\n",
       "      <th>0</th>\n",
       "      <td>2066</td>\n",
       "      <td>È terrorismo anche questo, per mettere in uno ...</td>\n",
       "      <td>0</td>\n",
       "      <td>0</td>\n",
       "      <td>train</td>\n",
       "    </tr>\n",
       "    <tr>\n",
       "      <th>1</th>\n",
       "      <td>2045</td>\n",
       "      <td>@user @user infatti finché ci hanno guadagnato...</td>\n",
       "      <td>0</td>\n",
       "      <td>0</td>\n",
       "      <td>train</td>\n",
       "    </tr>\n",
       "    <tr>\n",
       "      <th>2</th>\n",
       "      <td>61</td>\n",
       "      <td>Corriere: Tangenti, Mafia Capitale dimenticata...</td>\n",
       "      <td>0</td>\n",
       "      <td>0</td>\n",
       "      <td>train</td>\n",
       "    </tr>\n",
       "    <tr>\n",
       "      <th>3</th>\n",
       "      <td>1259</td>\n",
       "      <td>@user ad uno ad uno, perché quando i migranti ...</td>\n",
       "      <td>0</td>\n",
       "      <td>0</td>\n",
       "      <td>train</td>\n",
       "    </tr>\n",
       "    <tr>\n",
       "      <th>4</th>\n",
       "      <td>949</td>\n",
       "      <td>Il divertimento del giorno? Trovare i patrioti...</td>\n",
       "      <td>0</td>\n",
       "      <td>0</td>\n",
       "      <td>train</td>\n",
       "    </tr>\n",
       "  </tbody>\n",
       "</table>\n",
       "</div>"
      ],
      "text/plain": [
       "     id                                               text  hs  stereotype  \\\n",
       "0  2066  È terrorismo anche questo, per mettere in uno ...   0           0   \n",
       "1  2045  @user @user infatti finché ci hanno guadagnato...   0           0   \n",
       "2    61  Corriere: Tangenti, Mafia Capitale dimenticata...   0           0   \n",
       "3  1259  @user ad uno ad uno, perché quando i migranti ...   0           0   \n",
       "4   949  Il divertimento del giorno? Trovare i patrioti...   0           0   \n",
       "\n",
       "   split  \n",
       "0  train  \n",
       "1  train  \n",
       "2  train  \n",
       "3  train  \n",
       "4  train  "
      ]
     },
     "execution_count": 6,
     "metadata": {},
     "output_type": "execute_result"
    }
   ],
   "source": [
    "df_italian = pd.read_csv(\"data/raw_datasets/sanguinetti2020_italian.csv\")\n",
    "df_italian.head()"
   ]
  },
  {
   "cell_type": "markdown",
   "id": "780b864b",
   "metadata": {},
   "source": [
    "We apply the logic specific to preprocessing and splitting the Italian dataset below. However, because the Italian dataset is slightly different than the two others, we also use a custom logic to the splitting processes as can be seen in the code below."
   ]
  },
  {
   "cell_type": "code",
   "execution_count": 7,
   "id": "0714b4fa",
   "metadata": {},
   "outputs": [
    {
     "name": "stdout",
     "output_type": "stream",
     "text": [
      "percentage of hate in total in Italian is 41.83% out of 8100 examples\n",
      "percentage of hate in train in Italian is 40.45% out of 6153 examples\n",
      "percentage of hate in val in Italian is 40.50% out of 684 examples\n",
      "percentage of hate in test in Italian is 49.25% out of 1263 examples\n"
     ]
    }
   ],
   "source": [
    "def sanguinetti_preprocess(df):\n",
    "    # encapsulates the logic to preprocess the italian dataset\n",
    "    df = df.rename(columns={\"hs\": \"label\"})\n",
    "    df[\"text\"] = df[\"text\"].apply(lambda x: _clean_text(x))\n",
    "    df = df[df.columns[df.columns.isin(['text', 'label', 'split'])]]\n",
    "    return df\n",
    "\n",
    "df_italian = sanguinetti_preprocess(df_italian)\n",
    "\n",
    "traindev = df_italian[df_italian[\"split\"] == \"train\"][[\"text\", \"label\"]] #we split the data based on the original split\n",
    "italian_test = df_italian[df_italian[\"split\"] == \"test\"][[\"text\", \"label\"]]\n",
    "italian_train, italian_dev = train_test_split(traindev, test_size=0.1, stratify = traindev.label, random_state=123) #we split train split to train and dev\n",
    "\n",
    "LANGUAGE = 'Italian'\n",
    "_percentage_message(_hate_percentage(df_italian), 'total', LANGUAGE) #we calculate the percentages of hate\n",
    "_percentage_message(_hate_percentage(italian_train), 'train', LANGUAGE)\n",
    "_percentage_message(_hate_percentage(italian_dev), 'val', LANGUAGE)\n",
    "_percentage_message(_hate_percentage(italian_test), 'test', LANGUAGE)\n",
    "_dataset_save(italian_train, LANGUAGE, 'train') #we write the data to disk\n",
    "_dataset_save(italian_dev, LANGUAGE, 'val')\n",
    "_dataset_save(italian_test, LANGUAGE, 'test')"
   ]
  },
  {
   "cell_type": "markdown",
   "id": "2469e0c3",
   "metadata": {},
   "source": [
    "## Spanish"
   ]
  },
  {
   "cell_type": "markdown",
   "id": "3b032534",
   "metadata": {},
   "source": [
    "Finally, we load the Spanish dataset and look at the first few examples as well."
   ]
  },
  {
   "cell_type": "code",
   "execution_count": 8,
   "id": "f6e65af8",
   "metadata": {},
   "outputs": [
    {
     "data": {
      "text/html": [
       "<div>\n",
       "<style scoped>\n",
       "    .dataframe tbody tr th:only-of-type {\n",
       "        vertical-align: middle;\n",
       "    }\n",
       "\n",
       "    .dataframe tbody tr th {\n",
       "        vertical-align: top;\n",
       "    }\n",
       "\n",
       "    .dataframe thead th {\n",
       "        text-align: right;\n",
       "    }\n",
       "</style>\n",
       "<table border=\"1\" class=\"dataframe\">\n",
       "  <thead>\n",
       "    <tr style=\"text-align: right;\">\n",
       "      <th></th>\n",
       "      <th>id</th>\n",
       "      <th>text</th>\n",
       "      <th>HS</th>\n",
       "      <th>TR</th>\n",
       "      <th>AG</th>\n",
       "    </tr>\n",
       "  </thead>\n",
       "  <tbody>\n",
       "    <tr>\n",
       "      <th>0</th>\n",
       "      <td>20001</td>\n",
       "      <td>Easyjet quiere duplicar el número de mujeres p...</td>\n",
       "      <td>1</td>\n",
       "      <td>0</td>\n",
       "      <td>0</td>\n",
       "    </tr>\n",
       "    <tr>\n",
       "      <th>1</th>\n",
       "      <td>20002</td>\n",
       "      <td>El gobierno debe crear un control estricto de ...</td>\n",
       "      <td>1</td>\n",
       "      <td>0</td>\n",
       "      <td>0</td>\n",
       "    </tr>\n",
       "    <tr>\n",
       "      <th>2</th>\n",
       "      <td>20003</td>\n",
       "      <td>Yo veo a mujeres destruidas por acoso laboral ...</td>\n",
       "      <td>0</td>\n",
       "      <td>0</td>\n",
       "      <td>0</td>\n",
       "    </tr>\n",
       "    <tr>\n",
       "      <th>3</th>\n",
       "      <td>20004</td>\n",
       "      <td>— Yo soy respetuoso con los demás, sólamente l...</td>\n",
       "      <td>0</td>\n",
       "      <td>0</td>\n",
       "      <td>0</td>\n",
       "    </tr>\n",
       "    <tr>\n",
       "      <th>4</th>\n",
       "      <td>20007</td>\n",
       "      <td>Antonio Caballero y como ser de mal gusto e ig...</td>\n",
       "      <td>0</td>\n",
       "      <td>0</td>\n",
       "      <td>0</td>\n",
       "    </tr>\n",
       "  </tbody>\n",
       "</table>\n",
       "</div>"
      ],
      "text/plain": [
       "      id                                               text  HS  TR  AG\n",
       "0  20001  Easyjet quiere duplicar el número de mujeres p...   1   0   0\n",
       "1  20002  El gobierno debe crear un control estricto de ...   1   0   0\n",
       "2  20003  Yo veo a mujeres destruidas por acoso laboral ...   0   0   0\n",
       "3  20004  — Yo soy respetuoso con los demás, sólamente l...   0   0   0\n",
       "4  20007  Antonio Caballero y como ser de mal gusto e ig...   0   0   0"
      ]
     },
     "execution_count": 8,
     "metadata": {},
     "output_type": "execute_result"
    }
   ],
   "source": [
    "df_spanish = pd.read_csv(\"data/raw_datasets/basile2019_spanish.csv\")\n",
    "df_spanish.head()"
   ]
  },
  {
   "cell_type": "markdown",
   "id": "53837b76",
   "metadata": {},
   "source": [
    "Then we preprocess and split the dataset."
   ]
  },
  {
   "cell_type": "code",
   "execution_count": 9,
   "id": "7140d23a",
   "metadata": {},
   "outputs": [
    {
     "name": "stdout",
     "output_type": "stream",
     "text": [
      "percentage of hate in total in Spanish is 41.52% out of 4950 examples\n",
      "percentage of hate in train in Spanish is 41.52% out of 3960 examples\n",
      "percentage of hate in val in Spanish is 41.62% out of 495 examples\n",
      "percentage of hate in test in Spanish is 41.41% out of 495 examples\n"
     ]
    }
   ],
   "source": [
    "def basile_preprocess(df):\n",
    "    # encapsulates the logic to preprocess the spanish dataset\n",
    "    df = df.rename(columns={\"HS\": \"label\"})\n",
    "    df[\"text\"] = df[\"text\"].apply(lambda x: _clean_text(x))\n",
    "    df = df[df.columns[df.columns.isin(['text', 'label'])]]\n",
    "    return df\n",
    "\n",
    "df_spanish = basile_preprocess(df_spanish)\n",
    "spliter(df_spanish, 'Spanish')"
   ]
  }
 ],
 "metadata": {
  "kernelspec": {
   "display_name": "customisability-env",
   "language": "python",
   "name": "customisability-env"
  },
  "language_info": {
   "codemirror_mode": {
    "name": "ipython",
    "version": 3
   },
   "file_extension": ".py",
   "mimetype": "text/x-python",
   "name": "python",
   "nbconvert_exporter": "python",
   "pygments_lexer": "ipython3",
   "version": "3.9.7"
  }
 },
 "nbformat": 4,
 "nbformat_minor": 5
}
